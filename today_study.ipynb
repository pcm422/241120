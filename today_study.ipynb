{
 "cells": [
  {
   "cell_type": "code",
   "execution_count": 18,
   "metadata": {},
   "outputs": [
    {
     "name": "stdout",
     "output_type": "stream",
     "text": [
      "고객님~ 1 2 3 아메리카노 주문하신거 나왔습니다~~\n"
     ]
    }
   ],
   "source": [
    "prompt = \"아메리카노에 추가할 세 가지 옵션을 공백문자로 분리하여 입력해주세요\\n>>>\"\n",
    "opt1, opt2, opt3 = input(prompt).split()\n",
    "print(f\"고객님~ {opt1} {opt2} {opt3} 아메리카노 주문하신거 나왔습니다~~\")\n"
   ]
  },
  {
   "cell_type": "code",
   "execution_count": 22,
   "metadata": {},
   "outputs": [
    {
     "name": "stdout",
     "output_type": "stream",
     "text": [
      "<map object at 0x00000294EA9E0AF0>\n"
     ]
    }
   ],
   "source": [
    "number1= map(int, input().split(\",\"))\n",
    "print(number1)"
   ]
  },
  {
   "cell_type": "markdown",
   "metadata": {},
   "source": [
    "레거시 : 누군가 남겨두고간 코드\n",
    "\n",
    "리팩토링 : 결과의 변겅없이 코드의 구조를 재조정하는 것입니다"
   ]
  },
  {
   "cell_type": "code",
   "execution_count": 26,
   "metadata": {},
   "outputs": [
    {
     "name": "stdout",
     "output_type": "stream",
     "text": [
      "15\n"
     ]
    }
   ],
   "source": [
    "i = map(int, input().split())\n",
    "print(sum(i))"
   ]
  },
  {
   "cell_type": "markdown",
   "metadata": {},
   "source": [
    "list란 원소들이 연속적으로 저장되는 형태의 자료형  \n",
    "시퀀스 자료형 : str, list, tuple, dict, set  \n",
    "만드는 방법 : 대괄호로 묶어주고 값들은 콤마로 구분"
   ]
  },
  {
   "cell_type": "code",
   "execution_count": 31,
   "metadata": {},
   "outputs": [
    {
     "name": "stdout",
     "output_type": "stream",
     "text": [
      "1 2 3 4 5\n"
     ]
    }
   ],
   "source": [
    "a, b, c ,d, e = {1, 2, 3, 4 ,5}\n",
    "print(a, b, c, d, e)"
   ]
  },
  {
   "cell_type": "code",
   "execution_count": 59,
   "metadata": {},
   "outputs": [
    {
     "name": "stdout",
     "output_type": "stream",
     "text": [
      "[3, 5]\n",
      "44\n",
      "[44, 41, 33, 15, 5, 3]\n",
      "True\n",
      "[3, 5, 15, 33, 41, 44, 2, 12, 15, 24, 33, 39]\n",
      "[2, 4, 6, 8, 10, 2, 4, 6, 8, 10]\n",
      "10\n",
      "8\n",
      "10\n"
     ]
    }
   ],
   "source": [
    "로또 = [3, 5, 15, 33, 41, 44]\n",
    "print(로또[:2])\n",
    "print(로또[-1])\n",
    "print(로또[::-1])\n",
    "print(33 in 로또)\n",
    "로또2 = [2,12,15,24,33,39]\n",
    "print(로또 + 로또2)\n",
    "짝수 = list(range(2,11,2))\n",
    "짝수 = 짝수 * 2\n",
    "print(짝수)\n",
    "print(len(짝수))\n",
    "print(짝수[3])\n",
    "print(짝수[len(짝수)-1])"
   ]
  },
  {
   "cell_type": "code",
   "execution_count": 69,
   "metadata": {},
   "outputs": [
    {
     "name": "stdout",
     "output_type": "stream",
     "text": [
      "['숙주', '분모자']\n",
      "['숙주', '분모자', '바보']\n",
      "['멍청이', '숙주', '분모자', '바보']\n",
      "['멍청이', '숙주', '분모자']\n",
      "['멍청이', '소고기', '분모자']\n",
      "['분모자', '소고기', '멍청이']\n",
      "['멍청이', '분모자', '소고기']\n"
     ]
    }
   ],
   "source": [
    "# list 값 추가\n",
    "mzfood = [\"숙주\", \"분모자\"]\n",
    "print(mzfood)\n",
    "mzfood.append(\"바보\")\n",
    "print(mzfood)\n",
    "mzfood.insert(0, \"멍청이\")\n",
    "print(mzfood)\n",
    "del mzfood[-1]\n",
    "print(mzfood)\n",
    "mzfood[-2] = \"소고기\"\n",
    "print(mzfood)\n",
    "mzfood.reverse()\n",
    "print(mzfood)\n",
    "mzfood.sort()\n",
    "print(mzfood)"
   ]
  },
  {
   "cell_type": "markdown",
   "metadata": {},
   "source": [
    "## 1. Tuple\n",
    "\n",
    "튜플(tuple)이란? 리스트처럼 요소를 순차적으로 저장하지만 각 요소 변경, 추가, 삭제가 불가능한(**immutable**) 자료형을 의미합니다.  \n",
    "### 1.1. Tuple 생성방법\n",
    "\n",
    "1. 단순 나열: `1, 2, 3` : packing, unpacking 기억나시나요? 사실 튜플 자료형을 사용하여 여러개의 변수를 동시에 할당할 수 있습니다.\n",
    "2. 소괄호로 감싸기: `(1, 2, 3)`\n"
   ]
  },
  {
   "cell_type": "code",
   "execution_count": 76,
   "metadata": {},
   "outputs": [
    {
     "name": "stdout",
     "output_type": "stream",
     "text": [
      "<class 'tuple'>\n",
      "(1, '이', 3.0)\n",
      "<class 'list'>\n",
      "[2, '이', 4.5]\n",
      "<class 'tuple'>\n",
      "(1,)\n",
      "<class 'int'>\n",
      "1\n",
      "['중', '꺾', '그', '마']\n",
      "('중', '꺾', '그', '마')\n",
      "3\n",
      "(1, '이', 3.0, 1, '이', 3.0, 1, '이', 3.0)\n",
      "(1, '이', 3.0, 1, '이', 3.0)\n",
      "3.0\n",
      "2\n",
      "1\n",
      "('이', 3.0)\n"
     ]
    }
   ],
   "source": [
    "튜플 = (1, \"이\", 3.0)\n",
    "print(type(튜플))\n",
    "print(튜플)\n",
    "리스트 = [2, \"이\", 4.5]\n",
    "print(type(리스트))\n",
    "print(리스트)\n",
    "튜플_솔로 = (1, )\n",
    "print(type(튜플_솔로))\n",
    "print(튜플_솔로)\n",
    "튜플_나는솔로 = (1)\n",
    "print(type(튜플_나는솔로))\n",
    "print(튜플_나는솔로)\n",
    "\n",
    "수강생 = \"중꺾그마\"\n",
    "수강생_list = list(수강생)\n",
    "수강생_tuple = tuple(수강생)\n",
    "print(수강생_list)\n",
    "print(수강생_tuple)\n",
    "\n",
    "print(len(튜플))\n",
    "print(튜플*3)\n",
    "print(튜플 + 튜플)\n",
    "print(튜플[2])\n",
    "print(튜플.index(3.0))\n",
    "print(튜플.count(1))\n",
    "print(튜플[1:3])"
   ]
  },
  {
   "cell_type": "markdown",
   "metadata": {},
   "source": [
    "### 1.3. Tuple, 왜 쓸까요?\n",
    "\n",
    "tuple과 list의 가장 큰 차이점인 **불변성**에 그 이유가 있습니다. 여러명이서 거대한 코드베이스를 다루어야 하는 경우, 우리는 모든 변수의 용도와 의도를 확실하게 알기 매우 어렵습니다. 이 상황에서 어떤 변수의 각 요소가 변할 소지를 남기는 것은 여러가지 측면에서 불리하게 작용할 수 있습니다.\n",
    "\n",
    "1. 동시성 문제\n",
    "    \n",
    "    코드는 여러명이서 작성하는 것도 문제이지만, 만약 개발하고자 하는 프로그램이 여러 코어를 사용하는 멀티 스레드 프로그램이라면 여러 실행흐름이 동시에 하나의 공유 자원을 두고 경쟁하는 이른바 Race Condition이 발생하게 됩니다. 이 경우 공유자원이 변하지 않는다는 것을 보장할 수 있다면 경쟁상황도 발생하지 않을 것입니다.\n",
    "    \n",
    "2. 성능 문제 \n",
    "    \n",
    "    list는 **동적 배열**입니다. `append` 메서드를 사용하여 원하는 만큼 길이를 늘릴 수 있습니다. 하지만 그 편의성에는 대가가 따릅니다. Python 프로그램은 list가 어느정도의 크기를 사용할지 미리 알 수 없기 때문에 가능하면 재할당이 자주 일어나지 않게끔 큼직하게 메모리를 할당해 놓으려고 합니다. **더블링**이라는 방법을 통해 공간이 부족하면 기존 할당받은 크기의 두배가 되는 새 메모리 공간을 할당하고 기존의 데이터를 복제합니다. 이 방식은 상당한 양의 메모리 낭비를 초래할 수 있습니다.\n",
    "    \n",
    "    반면에 tuple은 생성과 동시에 그 크기가 고정됩니다. 따라서 재할당이 이루어지지 않기 때문에 관련 로직이 없어 list보다 적은 양의 메모리를 사용할 수 있어 보다 효율적입니다."
   ]
  },
  {
   "cell_type": "code",
   "execution_count": 77,
   "metadata": {},
   "outputs": [
    {
     "name": "stdout",
     "output_type": "stream",
     "text": [
      "최승현@강감찬@홍길동@세종\n"
     ]
    }
   ],
   "source": [
    "names = (\"최승현\", \"강감찬\", \"홍길동\", \"세종\")\n",
    "print(\"@\".join(names))"
   ]
  },
  {
   "cell_type": "markdown",
   "metadata": {},
   "source": [
    "## 1. dict 개요\n",
    "\n",
    "dict는 지금까지 배웠던 list, tuple, str, range같은 시퀀스 자료형과는 다르게 키와 값으로 데이터를 저장하는 자료구조입니다. 시퀀스 자료형은 인덱싱을 사용하여 데이터를 찾았듯이, dict또한 key를 사용하여 데이터를 찾을 수 있습니다. (출처: [dict](https://docs.python.org/3.7/library/stdtypes.html#dict))  \n",
    "### 1.1 zip\n",
    "\n",
    "`zip`: 병렬처리를 도와줍니다. 두 iterable 객체를 인자로 받아 하나씩 순회하며 쌍으로 묶어줍니다. 둘 중 더 작은 크기의 객체의 크기만큼 됩니다. (출처: [zip](https://docs.python.org/3/library/functions.html#zip))"
   ]
  },
  {
   "cell_type": "code",
   "execution_count": 80,
   "metadata": {},
   "outputs": [
    {
     "name": "stdout",
     "output_type": "stream",
     "text": [
      "[('key1', 1), ('key2', 2), ('key3', 3)]\n",
      "{'key1': 1, 'key2': 2, 'key3': 3}\n"
     ]
    }
   ],
   "source": [
    "val1=10\n",
    "val2=20\n",
    "{\"key1\":val1, \"key2\": val2}\n",
    "dict(key1=val1, key2=val2)\n",
    "\n",
    "keys = [\"key1\", \"key2\", \"key3\"]\n",
    "vals = [1, 2, 3, 4]\n",
    "print(list(zip(keys, vals)))\n",
    "print(dict(zip(keys, vals)))"
   ]
  },
  {
   "cell_type": "markdown",
   "metadata": {},
   "source": [
    "### 1.2. dict의 특성과 메서드\n",
    "\n",
    "- 값의 중복은 허용하나, 키의 중복은 허용하지 않습니다. 중복될 경우, 가장 뒤에 있는 키로 덮어씌워집니다.\n",
    "- dict의 키는 변경이 불가하며 (immutable), 값은 변경이 가능합니다 (mutable)\n",
    "- `key in d` : 주어진 키가 dict 객체 안에 요소로 존재하는지 여부를 구할 수 있습니다.\n",
    "- `s[key] = value` dict 객체의 키와 연관된 값을 덮어씌우거나 새 키-값 쌍을 저장합니다.\n",
    "- `s.update({\"newkey1\": 1, \"newkey2\": 2})`: 인자로 들어온 다른 dict 객체로부터 dict 객체의 키와 연관된 값을 덮어씌우거나 새 키-값 쌍을 저장합니다.\n",
    "- `del s[key]` dict 객체의 키와 연관 값의 쌍을 삭제합니다. 만약 키가 dict 객체에 존재하지 않을시 `KeyError` 에러가 발생하게 됩니다.\n",
    "- `dict.keys` 메서드를 사용하여 dict 객체가 가지고 있는 키들을 순회할 수 있습니다.\n",
    "- `dict.values` 메서드를 사용하여 dict 객체가 가지고 있는 값들을 순회할 수 있습니다.\n",
    "- `dict.items` 메서드를 사용하여 키와 값의 쌍을 순회할 수 있습니다.\n",
    "    - **주의!** `dict_items`라는 별개의 형이 리턴됩니다. 따라서 `list`로 형변환을 수행하거나 `for` 반복문을 사용하여 수행해야 키와 값을 볼 수 있습니다."
   ]
  },
  {
   "cell_type": "code",
   "execution_count": 91,
   "metadata": {},
   "outputs": [
    {
     "name": "stdout",
     "output_type": "stream",
     "text": [
      "{'힘': 40, '지능': 20, '체력': 40, '민첩': 90, '지구력': 90}\n",
      "True\n",
      "dict_keys(['힘', '지능', '체력', '민첩', '지구력'])\n",
      "dict_values([40, 20, 40, 90, 90])\n",
      "dict_items([('힘', 40), ('지능', 20), ('체력', 40), ('민첩', 90), ('지구력', 90)])\n",
      "<class 'dict_items'>\n",
      "[('힘', 40), ('지능', 20), ('체력', 40), ('민첩', 90), ('지구력', 90)]\n",
      "40\n",
      "{'힘': 40, '지능': 20, '체력': 40, '민첩': 90}\n",
      "{'힘': 40, '지능': 100, '체력': 40, '민첩': 90}\n",
      "{'힘': 40, '지능': 100, '체력': 40, '민첩': 90, '손재주': 44, '매력': 100}\n"
     ]
    }
   ],
   "source": [
    "짱짱맨 = {\"힘\" : 40, \"지능\" : 20, \"체력\" : 40, \"민첩\" : 90, \"지구력\" : 90}\n",
    "print(짱짱맨)\n",
    "print(\"체력\" in 짱짱맨)\n",
    "print(짱짱맨.keys())\n",
    "print(짱짱맨.values())\n",
    "print(짱짱맨.items())\n",
    "print(type(짱짱맨.items()))\n",
    "\n",
    "리스트화된_짱짱맨 = list(짱짱맨.items())\n",
    "print(리스트화된_짱짱맨)\n",
    "print(리스트화된_짱짱맨[0][1])\n",
    "\n",
    "del 짱짱맨[\"지구력\"]\n",
    "print(짱짱맨)\n",
    "짱짱맨[\"지능\"] = 100\n",
    "print(짱짱맨)\n",
    "짱짱맨.update({\"손재주\" : 44, \"매력\" : 100})\n",
    "print(짱짱맨)"
   ]
  },
  {
   "cell_type": "markdown",
   "metadata": {},
   "source": [
    "### 1.3. nested dict\n",
    "\n",
    "list의 요소로 list가 들어올 수 있듯이, dict의 값에 dict가 들어올 수도 있습니다."
   ]
  },
  {
   "cell_type": "code",
   "execution_count": 1,
   "metadata": {},
   "outputs": [
    {
     "name": "stdout",
     "output_type": "stream",
     "text": [
      "{'모자': {'캡': '발렌시아', '비니': '셀린느'}, '상의': {'후드티': '칼하트', '맨투맨': '슈프림'}}\n"
     ]
    }
   ],
   "source": [
    "코디 = {\n",
    "    \"모자\" : {\n",
    "        \"캡\" : \"발렌시아\",\n",
    "        \"비니\" : \"셀린느\"\n",
    "    },\n",
    "    \"상의\" : {\n",
    "        \"후드티\" : \"칼하트\",\n",
    "        \"맨투맨\" : \"슈프림\"\n",
    "    }\n",
    "}\n",
    "print(코디)"
   ]
  },
  {
   "cell_type": "code",
   "execution_count": null,
   "metadata": {},
   "outputs": [
    {
     "name": "stdout",
     "output_type": "stream",
     "text": [
      "주문이 완료되었습니다. 팥 : 2개, 슈크림 : 3개, 잡채 : 1개 총 6개 결제 금액은 14500원 입니다.\n"
     ]
    }
   ],
   "source": [
    "팥 = int(input(\"팥 붕어빵 몇개 살래 : \"))\n",
    "슈크림 = int(input(\"슈크림 붕어빵 몇개 살래 : \"))\n",
    "잡채 = int(input(\"잡채 붕어빵 몇개 살래 : \"))\n",
    "\n",
    "품목별_가격 = {\"팥\" : 2000, \"슈크림\" : 2500, \"잡채\" : 3000}\n",
    "\n",
    "총_주문개수 = 팥 + 슈크림 + 잡채\n",
    "\n",
    "total = 0\n",
    "total = total + 품목별_가격[\"팥\"] * 팥\n",
    "total = total + 품목별_가격[\"슈크림\"] * 슈크림\n",
    "total = total + 품목별_가격[\"잡채\"] * 잡채\n",
    "\n",
    "print(f\"주문이 완료되었습니다. 팥 : {팥}개, 슈크림 : {슈크림}개, 잡채 : {잡채}개 총 {총_주문개수}개 결제 금액은 {total}원 입니다.\")\n"
   ]
  },
  {
   "cell_type": "markdown",
   "metadata": {},
   "source": [
    "## 1. set 개요\n",
    "\n",
    "set은 수학에서의 집합(set)과 동일한 의미를 갖고있습니다. 집합의 가장 큰 특징은 요소들의 중복을 허용하지 않는 점입니다. dict와 같이 집어넣은 순서를 보장하지 않습니다. set의 생성 방법도 중괄호 `{}` 입니다. 하지만 dict와는 달리 `key : value` 쌍이 아니라는 점 염두하세요."
   ]
  },
  {
   "cell_type": "code",
   "execution_count": 32,
   "metadata": {},
   "outputs": [
    {
     "data": {
      "text/plain": [
       "{0, 1, 2, 3, 4, 5, 6, 7, 8, 9}"
      ]
     },
     "execution_count": 32,
     "metadata": {},
     "output_type": "execute_result"
    }
   ],
   "source": [
    "채소 = {\"당근\", \"배추\", \"대파\", \"양파\"}\n",
    "set([\"홍길동\", \"강감찬\", \"강감찬\", \"이황\"]) # list -> set\n",
    "set((\"홍길동\", \"강감찬\", \"강감찬\", \"이황\")) # tuple -> set\n",
    "set({\"키\" : \"값\"}) # dict -> set, key만 가지고 옴.\n",
    "set(range(10)) # iterable 객체 -> set"
   ]
  },
  {
   "cell_type": "markdown",
   "metadata": {},
   "source": [
    "### 1.1. 중복을 허용하지 않는 set\n",
    "\n",
    "아래 코드를 실행해봅시다. 예상과 다른 결과에 놀라게 될 겁니다. 사실 문자열 자료형 또한 list나 tuple과 같은 iterable한 객체이기 때문에 문자 하나하나를 순회하며 set에 삽입을 시도하게 됩니다. 또한, 순서가 유지되지 않고 무작위로 나열된 것처럼 보입니다."
   ]
  },
  {
   "cell_type": "code",
   "execution_count": 20,
   "metadata": {},
   "outputs": [
    {
     "name": "stdout",
     "output_type": "stream",
     "text": [
      "['a', 'p', 'p', 'l', 'e']\n",
      "('a', 'p', 'p', 'l', 'e')\n",
      "{'p', 'e', 'l', 'a'}\n"
     ]
    }
   ],
   "source": [
    "사과_리스트 = list(\"apple\")\n",
    "print(사과_리스트)\n",
    "사과_튜플 = tuple(\"apple\")\n",
    "print(사과_튜플)\n",
    "사과_셋 = set(\"apple\")\n",
    "print(사과_셋)"
   ]
  },
  {
   "cell_type": "markdown",
   "metadata": {},
   "source": [
    "### 1.2. set이 언제 사용되나요?\n",
    "\n",
    "- 입력(혹은 컬렉션)으로부터 중복을 제거하고 자료구조 내 요소들의 유일성을 보장하기 위해 사용됩니다.\n",
    "- 두 컬렉션 사이에 다양한 집합 연산을 수행하는데 사용됩니다. 예를 들어 두 강좌를 동시에 수강하는 수강생을 찾을때 유용합니다.\n",
    "- `in` 키워드를 사용하여 주어진 요소가 컬렉션 안에 존재하는지 여부를 **빠르게** 검색할 수 있습니다."
   ]
  },
  {
   "cell_type": "markdown",
   "metadata": {},
   "source": [
    "### 1.3. set 자료형의 다양한 연산\n",
    "\n",
    "(참조: [set](https://docs.python.org/3/library/stdtypes.html#set))\n",
    "\n",
    "- **데이터 삽입**\n",
    "    - `set.add`: set에 새 요소를 추가합니다. 만약 이미 요소가 존재한다면 아무일도 일어나지 않습니다.\n",
    "    - `set.update`: set에 새 요소를 추가합니다. 인자로 iterable 객체를 받습니다.\n",
    "- **데이터 삭제**\n",
    "    - `set.remove`: set서 요소가 있으면 요소를 제거하고 없으면 `KeyError`가 발생합니다.\n",
    "    - `set.discard`: remove와 같지만 요소가 없어도 에러가 발생하지 않습니다.\n",
    "    - `set.pop`: 임의의 요소를 삭제하고 반환합니다. 만약 set이 비어있다면 `KeyError`가 발생합니다.\n",
    "- **집합연산**\n",
    "    - `set | other`, `set.union`: 합집합\n",
    "    - `set & other`, `set.intersection`: 교집합\n",
    "    - `set - other`, `set.difference`: 차집합\n",
    "    - `set ^ other`, `set.symmetric_difference`: 대칭차집합\n",
    "- **집합할당연산**\n",
    "    - `set |= other`, `set.union_update`\n",
    "    - `set &= other`, `set.intersection_update`\n",
    "    - `set -= other`, `set.difference_update`\n",
    "    - `set ^= other`, `set_symmetric_difference_update`"
   ]
  },
  {
   "cell_type": "code",
   "execution_count": null,
   "metadata": {},
   "outputs": [
    {
     "data": {
      "text/plain": [
       "'양파'"
      ]
     },
     "execution_count": 48,
     "metadata": {},
     "output_type": "execute_result"
    }
   ],
   "source": [
    "채소 = {\"당근\", \"배추\", \"대파\", \"양파\"}\n",
    "채소.add(\"토마토\")\n",
    "채소\n",
    "채소.update(\"깻잎\")\n",
    "채소\n",
    "채소.remove(\"잎\")\n",
    "채소\n",
    "채소.discard(\"잎\")\n",
    "채소\n",
    "채소.pop()"
   ]
  },
  {
   "cell_type": "code",
   "execution_count": 61,
   "metadata": {},
   "outputs": [
    {
     "data": {
      "text/plain": [
       "{'당근', '배추'}"
      ]
     },
     "execution_count": 61,
     "metadata": {},
     "output_type": "execute_result"
    }
   ],
   "source": [
    "채소1 = {\"당근\",\"양파\",\"오이\",\"배추\"}\n",
    "채소2 = {\"양파\",\"오이\",\"대파\",\"가지\"}\n",
    "\n",
    "# 합집합\n",
    "채소1 | 채소2\n",
    "set.union(채소1, 채소2)\n",
    "\n",
    "# 교집합\n",
    "채소1 & 채소2\n",
    "set.intersection(채소1, 채소2)\n",
    "\n",
    "# 차집합\n",
    "채소1 - 채소2\n",
    "set.difference(채소1, 채소2)"
   ]
  },
  {
   "cell_type": "markdown",
   "metadata": {},
   "source": [
    "영화와 각 영화별 출연한 배우가 주어졌을때, 모든 영화에 출연한 배우들의 목록을 출력하는 프로그램을 작성해 보세요\n"
   ]
  },
  {
   "cell_type": "code",
   "execution_count": 85,
   "metadata": {},
   "outputs": [
    {
     "name": "stdout",
     "output_type": "stream",
     "text": [
      "모든 영화에 출연한 배우 : {'키 호이 콴'}\n"
     ]
    }
   ],
   "source": [
    "films = {\n",
    "\t\"쿵푸팬더4\": [\"잭 블랙\", \"아콰피나\", \"비올라 데이비스\", \"더스틴 호프만\", \"브라이언 크랜스톤\", \"제임스 홍\", \"이안 맥쉐인\", \"키 호이 콴\", \"로니 쳉\", \"로리 탠 친\"],\n",
    "\t\"에브리씽 에브리웨어 올 앳 원스\": [\"양자경\", \"스테파니 수\", \"키 호이 콴\", \"제이미 리 커티스\", \"제임스 홍\"],\n",
    "\t\"로키 시즌 2\": [\"톰 히들스턴\", \"소피아 디 마티노\", \"구구 엄바사 로\", \"운미 모사쿠\", \"유진 코데로\", \"라파엘 카셀\", \"타라 스트롱\", \"키 호이 콴\"]\n",
    "}\n",
    "\n",
    "panda = set(films[\"쿵푸팬더4\"])\n",
    "once = set(films[\"에브리씽 에브리웨어 올 앳 원스\"])\n",
    "loki = set(films[\"로키 시즌 2\"])\n",
    "\n",
    "busy_actors = set.intersection(panda, once, loki)\n",
    "print(f\"모든 영화에 출연한 배우 : {busy_actors}\")"
   ]
  }
 ],
 "metadata": {
  "kernelspec": {
   "display_name": "Python 3",
   "language": "python",
   "name": "python3"
  },
  "language_info": {
   "codemirror_mode": {
    "name": "ipython",
    "version": 3
   },
   "file_extension": ".py",
   "mimetype": "text/x-python",
   "name": "python",
   "nbconvert_exporter": "python",
   "pygments_lexer": "ipython3",
   "version": "3.11.9"
  }
 },
 "nbformat": 4,
 "nbformat_minor": 2
}
